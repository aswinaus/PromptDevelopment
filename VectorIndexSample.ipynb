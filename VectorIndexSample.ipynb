{
 "cells": [
  {
   "cell_type": "code",
   "execution_count": 8,
   "metadata": {},
   "outputs": [
    {
     "name": "stdout",
     "output_type": "stream",
     "text": [
      "Requirement already satisfied: gpt_index in c:\\users\\aswin\\appdata\\local\\programs\\python\\python310\\lib\\site-packages (0.4.15)\n",
      "Requirement already satisfied: langchain in c:\\users\\aswin\\appdata\\local\\programs\\python\\python310\\lib\\site-packages (from gpt_index) (0.0.266)\n",
      "Requirement already satisfied: openai>=0.26.4 in c:\\users\\aswin\\appdata\\local\\programs\\python\\python310\\lib\\site-packages (from gpt_index) (0.27.8)\n",
      "Requirement already satisfied: dataclasses-json in c:\\users\\aswin\\appdata\\local\\programs\\python\\python310\\lib\\site-packages (from gpt_index) (0.5.14)\n",
      "Requirement already satisfied: transformers in c:\\users\\aswin\\appdata\\local\\programs\\python\\python310\\lib\\site-packages (from gpt_index) (4.31.0)\n",
      "Requirement already satisfied: nltk in c:\\users\\aswin\\appdata\\local\\programs\\python\\python310\\lib\\site-packages (from gpt_index) (3.8.1)\n",
      "Requirement already satisfied: numpy in c:\\users\\aswin\\appdata\\local\\programs\\python\\python310\\lib\\site-packages (from gpt_index) (1.25.2)\n",
      "Requirement already satisfied: tenacity<8.2.0 in c:\\users\\aswin\\appdata\\local\\programs\\python\\python310\\lib\\site-packages (from gpt_index) (8.1.0)\n",
      "Requirement already satisfied: pandas in c:\\users\\aswin\\appdata\\local\\programs\\python\\python310\\lib\\site-packages (from gpt_index) (2.0.3)\n",
      "Requirement already satisfied: tiktoken in c:\\users\\aswin\\appdata\\local\\programs\\python\\python310\\lib\\site-packages (from gpt_index) (0.4.0)\n",
      "Requirement already satisfied: requests>=2.20 in c:\\users\\aswin\\appdata\\local\\programs\\python\\python310\\lib\\site-packages (from openai>=0.26.4->gpt_index) (2.31.0)\n",
      "Requirement already satisfied: tqdm in c:\\users\\aswin\\appdata\\local\\programs\\python\\python310\\lib\\site-packages (from openai>=0.26.4->gpt_index) (4.66.1)\n",
      "Requirement already satisfied: aiohttp in c:\\users\\aswin\\appdata\\local\\programs\\python\\python310\\lib\\site-packages (from openai>=0.26.4->gpt_index) (3.8.5)\n",
      "Requirement already satisfied: marshmallow<4.0.0,>=3.18.0 in c:\\users\\aswin\\appdata\\local\\programs\\python\\python310\\lib\\site-packages (from dataclasses-json->gpt_index) (3.20.1)\n",
      "Requirement already satisfied: typing-inspect<1,>=0.4.0 in c:\\users\\aswin\\appdata\\local\\programs\\python\\python310\\lib\\site-packages (from dataclasses-json->gpt_index) (0.9.0)\n",
      "Requirement already satisfied: PyYAML>=5.3 in c:\\users\\aswin\\appdata\\local\\programs\\python\\python310\\lib\\site-packages (from langchain->gpt_index) (6.0.1)\n",
      "Requirement already satisfied: SQLAlchemy<3,>=1.4 in c:\\users\\aswin\\appdata\\local\\programs\\python\\python310\\lib\\site-packages (from langchain->gpt_index) (2.0.20)\n",
      "Requirement already satisfied: async-timeout<5.0.0,>=4.0.0 in c:\\users\\aswin\\appdata\\local\\programs\\python\\python310\\lib\\site-packages (from langchain->gpt_index) (4.0.3)\n",
      "Requirement already satisfied: langsmith<0.1.0,>=0.0.21 in c:\\users\\aswin\\appdata\\local\\programs\\python\\python310\\lib\\site-packages (from langchain->gpt_index) (0.0.24)\n",
      "Requirement already satisfied: numexpr<3.0.0,>=2.8.4 in c:\\users\\aswin\\appdata\\local\\programs\\python\\python310\\lib\\site-packages (from langchain->gpt_index) (2.8.5)\n",
      "Requirement already satisfied: openapi-schema-pydantic<2.0,>=1.2 in c:\\users\\aswin\\appdata\\local\\programs\\python\\python310\\lib\\site-packages (from langchain->gpt_index) (1.2.4)\n",
      "Requirement already satisfied: pydantic<2,>=1 in c:\\users\\aswin\\appdata\\local\\programs\\python\\python310\\lib\\site-packages (from langchain->gpt_index) (1.10.12)\n",
      "Requirement already satisfied: click in c:\\users\\aswin\\appdata\\local\\programs\\python\\python310\\lib\\site-packages (from nltk->gpt_index) (8.1.7)\n",
      "Requirement already satisfied: joblib in c:\\users\\aswin\\appdata\\local\\programs\\python\\python310\\lib\\site-packages (from nltk->gpt_index) (1.3.2)\n",
      "Requirement already satisfied: regex>=2021.8.3 in c:\\users\\aswin\\appdata\\local\\programs\\python\\python310\\lib\\site-packages (from nltk->gpt_index) (2023.8.8)\n",
      "Requirement already satisfied: python-dateutil>=2.8.2 in c:\\users\\aswin\\appdata\\local\\programs\\python\\python310\\lib\\site-packages (from pandas->gpt_index) (2.8.2)\n",
      "Requirement already satisfied: pytz>=2020.1 in c:\\users\\aswin\\appdata\\local\\programs\\python\\python310\\lib\\site-packages (from pandas->gpt_index) (2023.3)\n",
      "Requirement already satisfied: tzdata>=2022.1 in c:\\users\\aswin\\appdata\\local\\programs\\python\\python310\\lib\\site-packages (from pandas->gpt_index) (2023.3)\n",
      "Requirement already satisfied: filelock in c:\\users\\aswin\\appdata\\local\\programs\\python\\python310\\lib\\site-packages (from transformers->gpt_index) (3.12.2)\n",
      "Requirement already satisfied: huggingface-hub<1.0,>=0.14.1 in c:\\users\\aswin\\appdata\\local\\programs\\python\\python310\\lib\\site-packages (from transformers->gpt_index) (0.16.4)\n",
      "Requirement already satisfied: packaging>=20.0 in c:\\users\\aswin\\appdata\\local\\programs\\python\\python310\\lib\\site-packages (from transformers->gpt_index) (21.0)\n",
      "Requirement already satisfied: tokenizers!=0.11.3,<0.14,>=0.11.1 in c:\\users\\aswin\\appdata\\local\\programs\\python\\python310\\lib\\site-packages (from transformers->gpt_index) (0.13.3)\n",
      "Requirement already satisfied: safetensors>=0.3.1 in c:\\users\\aswin\\appdata\\local\\programs\\python\\python310\\lib\\site-packages (from transformers->gpt_index) (0.3.2)\n",
      "Requirement already satisfied: attrs>=17.3.0 in c:\\users\\aswin\\appdata\\local\\programs\\python\\python310\\lib\\site-packages (from aiohttp->openai>=0.26.4->gpt_index) (21.2.0)\n",
      "Requirement already satisfied: charset-normalizer<4.0,>=2.0 in c:\\users\\aswin\\appdata\\local\\programs\\python\\python310\\lib\\site-packages (from aiohttp->openai>=0.26.4->gpt_index) (3.2.0)\n",
      "Requirement already satisfied: multidict<7.0,>=4.5 in c:\\users\\aswin\\appdata\\local\\programs\\python\\python310\\lib\\site-packages (from aiohttp->openai>=0.26.4->gpt_index) (6.0.4)\n",
      "Requirement already satisfied: yarl<2.0,>=1.0 in c:\\users\\aswin\\appdata\\local\\programs\\python\\python310\\lib\\site-packages (from aiohttp->openai>=0.26.4->gpt_index) (1.9.2)\n",
      "Requirement already satisfied: frozenlist>=1.1.1 in c:\\users\\aswin\\appdata\\local\\programs\\python\\python310\\lib\\site-packages (from aiohttp->openai>=0.26.4->gpt_index) (1.4.0)\n",
      "Requirement already satisfied: aiosignal>=1.1.2 in c:\\users\\aswin\\appdata\\local\\programs\\python\\python310\\lib\\site-packages (from aiohttp->openai>=0.26.4->gpt_index) (1.3.1)\n",
      "Requirement already satisfied: fsspec in c:\\users\\aswin\\appdata\\local\\programs\\python\\python310\\lib\\site-packages (from huggingface-hub<1.0,>=0.14.1->transformers->gpt_index) (2023.6.0)\n",
      "Requirement already satisfied: typing-extensions>=3.7.4.3 in c:\\users\\aswin\\appdata\\local\\programs\\python\\python310\\lib\\site-packages (from huggingface-hub<1.0,>=0.14.1->transformers->gpt_index) (4.7.1)\n",
      "Requirement already satisfied: pyparsing>=2.0.2 in c:\\users\\aswin\\appdata\\local\\programs\\python\\python310\\lib\\site-packages (from packaging>=20.0->transformers->gpt_index) (2.4.7)\n",
      "Requirement already satisfied: six>=1.5 in c:\\users\\aswin\\appdata\\local\\programs\\python\\python310\\lib\\site-packages (from python-dateutil>=2.8.2->pandas->gpt_index) (1.16.0)\n",
      "Requirement already satisfied: idna<4,>=2.5 in c:\\users\\aswin\\appdata\\local\\programs\\python\\python310\\lib\\site-packages (from requests>=2.20->openai>=0.26.4->gpt_index) (3.4)\n",
      "Requirement already satisfied: urllib3<3,>=1.21.1 in c:\\users\\aswin\\appdata\\local\\programs\\python\\python310\\lib\\site-packages (from requests>=2.20->openai>=0.26.4->gpt_index) (1.26.16)\n",
      "Requirement already satisfied: certifi>=2017.4.17 in c:\\users\\aswin\\appdata\\local\\programs\\python\\python310\\lib\\site-packages (from requests>=2.20->openai>=0.26.4->gpt_index) (2023.7.22)\n",
      "Requirement already satisfied: greenlet!=0.4.17 in c:\\users\\aswin\\appdata\\local\\programs\\python\\python310\\lib\\site-packages (from SQLAlchemy<3,>=1.4->langchain->gpt_index) (2.0.2)\n",
      "Requirement already satisfied: colorama in c:\\users\\aswin\\appdata\\local\\programs\\python\\python310\\lib\\site-packages (from tqdm->openai>=0.26.4->gpt_index) (0.4.4)\n",
      "Requirement already satisfied: mypy-extensions>=0.3.0 in c:\\users\\aswin\\appdata\\local\\programs\\python\\python310\\lib\\site-packages (from typing-inspect<1,>=0.4.0->dataclasses-json->gpt_index) (1.0.0)\n"
     ]
    }
   ],
   "source": [
    "! pip install gpt_index"
   ]
  },
  {
   "cell_type": "code",
   "execution_count": 9,
   "metadata": {},
   "outputs": [
    {
     "name": "stdout",
     "output_type": "stream",
     "text": [
      "Requirement already satisfied: pip in c:\\users\\aswin\\appdata\\local\\programs\\python\\python310\\lib\\site-packages (23.2.1)\n"
     ]
    }
   ],
   "source": [
    "! pip install --upgrade pip"
   ]
  },
  {
   "cell_type": "code",
   "execution_count": 10,
   "metadata": {},
   "outputs": [
    {
     "name": "stdout",
     "output_type": "stream",
     "text": [
      "Requirement already satisfied: langchain in c:\\users\\aswin\\appdata\\local\\programs\\python\\python310\\lib\\site-packages (0.0.266)\n",
      "Requirement already satisfied: PyYAML>=5.3 in c:\\users\\aswin\\appdata\\local\\programs\\python\\python310\\lib\\site-packages (from langchain) (6.0.1)\n",
      "Requirement already satisfied: SQLAlchemy<3,>=1.4 in c:\\users\\aswin\\appdata\\local\\programs\\python\\python310\\lib\\site-packages (from langchain) (2.0.20)\n",
      "Requirement already satisfied: aiohttp<4.0.0,>=3.8.3 in c:\\users\\aswin\\appdata\\local\\programs\\python\\python310\\lib\\site-packages (from langchain) (3.8.5)\n",
      "Requirement already satisfied: async-timeout<5.0.0,>=4.0.0 in c:\\users\\aswin\\appdata\\local\\programs\\python\\python310\\lib\\site-packages (from langchain) (4.0.3)\n",
      "Requirement already satisfied: dataclasses-json<0.6.0,>=0.5.7 in c:\\users\\aswin\\appdata\\local\\programs\\python\\python310\\lib\\site-packages (from langchain) (0.5.14)\n",
      "Requirement already satisfied: langsmith<0.1.0,>=0.0.21 in c:\\users\\aswin\\appdata\\local\\programs\\python\\python310\\lib\\site-packages (from langchain) (0.0.24)\n",
      "Requirement already satisfied: numexpr<3.0.0,>=2.8.4 in c:\\users\\aswin\\appdata\\local\\programs\\python\\python310\\lib\\site-packages (from langchain) (2.8.5)\n",
      "Requirement already satisfied: numpy<2,>=1 in c:\\users\\aswin\\appdata\\local\\programs\\python\\python310\\lib\\site-packages (from langchain) (1.25.2)\n",
      "Requirement already satisfied: openapi-schema-pydantic<2.0,>=1.2 in c:\\users\\aswin\\appdata\\local\\programs\\python\\python310\\lib\\site-packages (from langchain) (1.2.4)\n",
      "Requirement already satisfied: pydantic<2,>=1 in c:\\users\\aswin\\appdata\\local\\programs\\python\\python310\\lib\\site-packages (from langchain) (1.10.12)\n",
      "Requirement already satisfied: requests<3,>=2 in c:\\users\\aswin\\appdata\\local\\programs\\python\\python310\\lib\\site-packages (from langchain) (2.31.0)\n",
      "Requirement already satisfied: tenacity<9.0.0,>=8.1.0 in c:\\users\\aswin\\appdata\\local\\programs\\python\\python310\\lib\\site-packages (from langchain) (8.1.0)\n",
      "Requirement already satisfied: attrs>=17.3.0 in c:\\users\\aswin\\appdata\\local\\programs\\python\\python310\\lib\\site-packages (from aiohttp<4.0.0,>=3.8.3->langchain) (21.2.0)\n",
      "Requirement already satisfied: charset-normalizer<4.0,>=2.0 in c:\\users\\aswin\\appdata\\local\\programs\\python\\python310\\lib\\site-packages (from aiohttp<4.0.0,>=3.8.3->langchain) (3.2.0)\n",
      "Requirement already satisfied: multidict<7.0,>=4.5 in c:\\users\\aswin\\appdata\\local\\programs\\python\\python310\\lib\\site-packages (from aiohttp<4.0.0,>=3.8.3->langchain) (6.0.4)\n",
      "Requirement already satisfied: yarl<2.0,>=1.0 in c:\\users\\aswin\\appdata\\local\\programs\\python\\python310\\lib\\site-packages (from aiohttp<4.0.0,>=3.8.3->langchain) (1.9.2)\n",
      "Requirement already satisfied: frozenlist>=1.1.1 in c:\\users\\aswin\\appdata\\local\\programs\\python\\python310\\lib\\site-packages (from aiohttp<4.0.0,>=3.8.3->langchain) (1.4.0)\n",
      "Requirement already satisfied: aiosignal>=1.1.2 in c:\\users\\aswin\\appdata\\local\\programs\\python\\python310\\lib\\site-packages (from aiohttp<4.0.0,>=3.8.3->langchain) (1.3.1)\n",
      "Requirement already satisfied: marshmallow<4.0.0,>=3.18.0 in c:\\users\\aswin\\appdata\\local\\programs\\python\\python310\\lib\\site-packages (from dataclasses-json<0.6.0,>=0.5.7->langchain) (3.20.1)\n",
      "Requirement already satisfied: typing-inspect<1,>=0.4.0 in c:\\users\\aswin\\appdata\\local\\programs\\python\\python310\\lib\\site-packages (from dataclasses-json<0.6.0,>=0.5.7->langchain) (0.9.0)\n",
      "Requirement already satisfied: typing-extensions>=4.2.0 in c:\\users\\aswin\\appdata\\local\\programs\\python\\python310\\lib\\site-packages (from pydantic<2,>=1->langchain) (4.7.1)\n",
      "Requirement already satisfied: idna<4,>=2.5 in c:\\users\\aswin\\appdata\\local\\programs\\python\\python310\\lib\\site-packages (from requests<3,>=2->langchain) (3.4)\n",
      "Requirement already satisfied: urllib3<3,>=1.21.1 in c:\\users\\aswin\\appdata\\local\\programs\\python\\python310\\lib\\site-packages (from requests<3,>=2->langchain) (1.26.16)\n",
      "Requirement already satisfied: certifi>=2017.4.17 in c:\\users\\aswin\\appdata\\local\\programs\\python\\python310\\lib\\site-packages (from requests<3,>=2->langchain) (2023.7.22)\n",
      "Requirement already satisfied: greenlet!=0.4.17 in c:\\users\\aswin\\appdata\\local\\programs\\python\\python310\\lib\\site-packages (from SQLAlchemy<3,>=1.4->langchain) (2.0.2)\n",
      "Requirement already satisfied: packaging>=17.0 in c:\\users\\aswin\\appdata\\local\\programs\\python\\python310\\lib\\site-packages (from marshmallow<4.0.0,>=3.18.0->dataclasses-json<0.6.0,>=0.5.7->langchain) (21.0)\n",
      "Requirement already satisfied: mypy-extensions>=0.3.0 in c:\\users\\aswin\\appdata\\local\\programs\\python\\python310\\lib\\site-packages (from typing-inspect<1,>=0.4.0->dataclasses-json<0.6.0,>=0.5.7->langchain) (1.0.0)\n",
      "Requirement already satisfied: pyparsing>=2.0.2 in c:\\users\\aswin\\appdata\\local\\programs\\python\\python310\\lib\\site-packages (from packaging>=17.0->marshmallow<4.0.0,>=3.18.0->dataclasses-json<0.6.0,>=0.5.7->langchain) (2.4.7)\n",
      "Requirement already satisfied: gpt_index==0.4.15 in c:\\users\\aswin\\appdata\\local\\programs\\python\\python310\\lib\\site-packages (0.4.15)\n",
      "Requirement already satisfied: langchain in c:\\users\\aswin\\appdata\\local\\programs\\python\\python310\\lib\\site-packages (from gpt_index==0.4.15) (0.0.266)\n",
      "Requirement already satisfied: openai>=0.26.4 in c:\\users\\aswin\\appdata\\local\\programs\\python\\python310\\lib\\site-packages (from gpt_index==0.4.15) (0.27.8)\n",
      "Requirement already satisfied: dataclasses-json in c:\\users\\aswin\\appdata\\local\\programs\\python\\python310\\lib\\site-packages (from gpt_index==0.4.15) (0.5.14)\n",
      "Requirement already satisfied: transformers in c:\\users\\aswin\\appdata\\local\\programs\\python\\python310\\lib\\site-packages (from gpt_index==0.4.15) (4.31.0)\n",
      "Requirement already satisfied: nltk in c:\\users\\aswin\\appdata\\local\\programs\\python\\python310\\lib\\site-packages (from gpt_index==0.4.15) (3.8.1)\n",
      "Requirement already satisfied: numpy in c:\\users\\aswin\\appdata\\local\\programs\\python\\python310\\lib\\site-packages (from gpt_index==0.4.15) (1.25.2)\n",
      "Requirement already satisfied: tenacity<8.2.0 in c:\\users\\aswin\\appdata\\local\\programs\\python\\python310\\lib\\site-packages (from gpt_index==0.4.15) (8.1.0)\n",
      "Requirement already satisfied: pandas in c:\\users\\aswin\\appdata\\local\\programs\\python\\python310\\lib\\site-packages (from gpt_index==0.4.15) (2.0.3)\n",
      "Requirement already satisfied: tiktoken in c:\\users\\aswin\\appdata\\local\\programs\\python\\python310\\lib\\site-packages (from gpt_index==0.4.15) (0.4.0)\n",
      "Requirement already satisfied: requests>=2.20 in c:\\users\\aswin\\appdata\\local\\programs\\python\\python310\\lib\\site-packages (from openai>=0.26.4->gpt_index==0.4.15) (2.31.0)\n",
      "Requirement already satisfied: tqdm in c:\\users\\aswin\\appdata\\local\\programs\\python\\python310\\lib\\site-packages (from openai>=0.26.4->gpt_index==0.4.15) (4.66.1)\n",
      "Requirement already satisfied: aiohttp in c:\\users\\aswin\\appdata\\local\\programs\\python\\python310\\lib\\site-packages (from openai>=0.26.4->gpt_index==0.4.15) (3.8.5)\n",
      "Requirement already satisfied: marshmallow<4.0.0,>=3.18.0 in c:\\users\\aswin\\appdata\\local\\programs\\python\\python310\\lib\\site-packages (from dataclasses-json->gpt_index==0.4.15) (3.20.1)\n",
      "Requirement already satisfied: typing-inspect<1,>=0.4.0 in c:\\users\\aswin\\appdata\\local\\programs\\python\\python310\\lib\\site-packages (from dataclasses-json->gpt_index==0.4.15) (0.9.0)\n",
      "Requirement already satisfied: PyYAML>=5.3 in c:\\users\\aswin\\appdata\\local\\programs\\python\\python310\\lib\\site-packages (from langchain->gpt_index==0.4.15) (6.0.1)\n",
      "Requirement already satisfied: SQLAlchemy<3,>=1.4 in c:\\users\\aswin\\appdata\\local\\programs\\python\\python310\\lib\\site-packages (from langchain->gpt_index==0.4.15) (2.0.20)\n",
      "Requirement already satisfied: async-timeout<5.0.0,>=4.0.0 in c:\\users\\aswin\\appdata\\local\\programs\\python\\python310\\lib\\site-packages (from langchain->gpt_index==0.4.15) (4.0.3)\n",
      "Requirement already satisfied: langsmith<0.1.0,>=0.0.21 in c:\\users\\aswin\\appdata\\local\\programs\\python\\python310\\lib\\site-packages (from langchain->gpt_index==0.4.15) (0.0.24)\n",
      "Requirement already satisfied: numexpr<3.0.0,>=2.8.4 in c:\\users\\aswin\\appdata\\local\\programs\\python\\python310\\lib\\site-packages (from langchain->gpt_index==0.4.15) (2.8.5)\n",
      "Requirement already satisfied: openapi-schema-pydantic<2.0,>=1.2 in c:\\users\\aswin\\appdata\\local\\programs\\python\\python310\\lib\\site-packages (from langchain->gpt_index==0.4.15) (1.2.4)\n",
      "Requirement already satisfied: pydantic<2,>=1 in c:\\users\\aswin\\appdata\\local\\programs\\python\\python310\\lib\\site-packages (from langchain->gpt_index==0.4.15) (1.10.12)\n",
      "Requirement already satisfied: click in c:\\users\\aswin\\appdata\\local\\programs\\python\\python310\\lib\\site-packages (from nltk->gpt_index==0.4.15) (8.1.7)\n",
      "Requirement already satisfied: joblib in c:\\users\\aswin\\appdata\\local\\programs\\python\\python310\\lib\\site-packages (from nltk->gpt_index==0.4.15) (1.3.2)\n",
      "Requirement already satisfied: regex>=2021.8.3 in c:\\users\\aswin\\appdata\\local\\programs\\python\\python310\\lib\\site-packages (from nltk->gpt_index==0.4.15) (2023.8.8)\n",
      "Requirement already satisfied: python-dateutil>=2.8.2 in c:\\users\\aswin\\appdata\\local\\programs\\python\\python310\\lib\\site-packages (from pandas->gpt_index==0.4.15) (2.8.2)\n",
      "Requirement already satisfied: pytz>=2020.1 in c:\\users\\aswin\\appdata\\local\\programs\\python\\python310\\lib\\site-packages (from pandas->gpt_index==0.4.15) (2023.3)\n",
      "Requirement already satisfied: tzdata>=2022.1 in c:\\users\\aswin\\appdata\\local\\programs\\python\\python310\\lib\\site-packages (from pandas->gpt_index==0.4.15) (2023.3)\n",
      "Requirement already satisfied: filelock in c:\\users\\aswin\\appdata\\local\\programs\\python\\python310\\lib\\site-packages (from transformers->gpt_index==0.4.15) (3.12.2)\n",
      "Requirement already satisfied: huggingface-hub<1.0,>=0.14.1 in c:\\users\\aswin\\appdata\\local\\programs\\python\\python310\\lib\\site-packages (from transformers->gpt_index==0.4.15) (0.16.4)\n",
      "Requirement already satisfied: packaging>=20.0 in c:\\users\\aswin\\appdata\\local\\programs\\python\\python310\\lib\\site-packages (from transformers->gpt_index==0.4.15) (21.0)\n",
      "Requirement already satisfied: tokenizers!=0.11.3,<0.14,>=0.11.1 in c:\\users\\aswin\\appdata\\local\\programs\\python\\python310\\lib\\site-packages (from transformers->gpt_index==0.4.15) (0.13.3)\n",
      "Requirement already satisfied: safetensors>=0.3.1 in c:\\users\\aswin\\appdata\\local\\programs\\python\\python310\\lib\\site-packages (from transformers->gpt_index==0.4.15) (0.3.2)\n",
      "Requirement already satisfied: attrs>=17.3.0 in c:\\users\\aswin\\appdata\\local\\programs\\python\\python310\\lib\\site-packages (from aiohttp->openai>=0.26.4->gpt_index==0.4.15) (21.2.0)\n",
      "Requirement already satisfied: charset-normalizer<4.0,>=2.0 in c:\\users\\aswin\\appdata\\local\\programs\\python\\python310\\lib\\site-packages (from aiohttp->openai>=0.26.4->gpt_index==0.4.15) (3.2.0)\n",
      "Requirement already satisfied: multidict<7.0,>=4.5 in c:\\users\\aswin\\appdata\\local\\programs\\python\\python310\\lib\\site-packages (from aiohttp->openai>=0.26.4->gpt_index==0.4.15) (6.0.4)\n",
      "Requirement already satisfied: yarl<2.0,>=1.0 in c:\\users\\aswin\\appdata\\local\\programs\\python\\python310\\lib\\site-packages (from aiohttp->openai>=0.26.4->gpt_index==0.4.15) (1.9.2)\n",
      "Requirement already satisfied: frozenlist>=1.1.1 in c:\\users\\aswin\\appdata\\local\\programs\\python\\python310\\lib\\site-packages (from aiohttp->openai>=0.26.4->gpt_index==0.4.15) (1.4.0)\n",
      "Requirement already satisfied: aiosignal>=1.1.2 in c:\\users\\aswin\\appdata\\local\\programs\\python\\python310\\lib\\site-packages (from aiohttp->openai>=0.26.4->gpt_index==0.4.15) (1.3.1)\n",
      "Requirement already satisfied: fsspec in c:\\users\\aswin\\appdata\\local\\programs\\python\\python310\\lib\\site-packages (from huggingface-hub<1.0,>=0.14.1->transformers->gpt_index==0.4.15) (2023.6.0)\n",
      "Requirement already satisfied: typing-extensions>=3.7.4.3 in c:\\users\\aswin\\appdata\\local\\programs\\python\\python310\\lib\\site-packages (from huggingface-hub<1.0,>=0.14.1->transformers->gpt_index==0.4.15) (4.7.1)\n",
      "Requirement already satisfied: pyparsing>=2.0.2 in c:\\users\\aswin\\appdata\\local\\programs\\python\\python310\\lib\\site-packages (from packaging>=20.0->transformers->gpt_index==0.4.15) (2.4.7)\n",
      "Requirement already satisfied: six>=1.5 in c:\\users\\aswin\\appdata\\local\\programs\\python\\python310\\lib\\site-packages (from python-dateutil>=2.8.2->pandas->gpt_index==0.4.15) (1.16.0)\n",
      "Requirement already satisfied: idna<4,>=2.5 in c:\\users\\aswin\\appdata\\local\\programs\\python\\python310\\lib\\site-packages (from requests>=2.20->openai>=0.26.4->gpt_index==0.4.15) (3.4)\n",
      "Requirement already satisfied: urllib3<3,>=1.21.1 in c:\\users\\aswin\\appdata\\local\\programs\\python\\python310\\lib\\site-packages (from requests>=2.20->openai>=0.26.4->gpt_index==0.4.15) (1.26.16)\n",
      "Requirement already satisfied: certifi>=2017.4.17 in c:\\users\\aswin\\appdata\\local\\programs\\python\\python310\\lib\\site-packages (from requests>=2.20->openai>=0.26.4->gpt_index==0.4.15) (2023.7.22)\n",
      "Requirement already satisfied: greenlet!=0.4.17 in c:\\users\\aswin\\appdata\\local\\programs\\python\\python310\\lib\\site-packages (from SQLAlchemy<3,>=1.4->langchain->gpt_index==0.4.15) (2.0.2)\n",
      "Requirement already satisfied: colorama in c:\\users\\aswin\\appdata\\local\\programs\\python\\python310\\lib\\site-packages (from tqdm->openai>=0.26.4->gpt_index==0.4.15) (0.4.4)\n",
      "Requirement already satisfied: mypy-extensions>=0.3.0 in c:\\users\\aswin\\appdata\\local\\programs\\python\\python310\\lib\\site-packages (from typing-inspect<1,>=0.4.0->dataclasses-json->gpt_index==0.4.15) (1.0.0)\n"
     ]
    }
   ],
   "source": [
    "! pip install langchain\n",
    "! pip install gpt_index==0.4.15"
   ]
  },
  {
   "cell_type": "code",
   "execution_count": 11,
   "metadata": {},
   "outputs": [
    {
     "ename": "ModuleNotFoundError",
     "evalue": "No module named 'gpt_index'",
     "output_type": "error",
     "traceback": [
      "\u001b[1;31m---------------------------------------------------------------------------\u001b[0m",
      "\u001b[1;31mModuleNotFoundError\u001b[0m                       Traceback (most recent call last)",
      "Cell \u001b[1;32mIn[11], line 1\u001b[0m\n\u001b[1;32m----> 1\u001b[0m \u001b[39mfrom\u001b[39;00m \u001b[39mgpt_index\u001b[39;00m \u001b[39mimport\u001b[39;00m SimpleDirectoryReader, GPTListIndex, GPTSimpleVectorIndex, LLMPredictor, PromptHelper,ServiceContext\n\u001b[0;32m      3\u001b[0m \u001b[39mfrom\u001b[39;00m \u001b[39mlangchain\u001b[39;00m \u001b[39mimport\u001b[39;00m OpenAI\n\u001b[0;32m      5\u001b[0m \u001b[39mimport\u001b[39;00m \u001b[39msys\u001b[39;00m\n",
      "\u001b[1;31mModuleNotFoundError\u001b[0m: No module named 'gpt_index'"
     ]
    }
   ],
   "source": [
    "from gpt_index import SimpleDirectoryReader, GPTListIndex, GPTSimpleVectorIndex, LLMPredictor, PromptHelper,ServiceContext\n",
    "\n",
    "from langchain import OpenAI\n",
    "\n",
    "import sys\n",
    "\n",
    "import os"
   ]
  }
 ],
 "metadata": {
  "kernelspec": {
   "display_name": "Python 3",
   "language": "python",
   "name": "python3"
  },
  "language_info": {
   "codemirror_mode": {
    "name": "ipython",
    "version": 3
   },
   "file_extension": ".py",
   "mimetype": "text/x-python",
   "name": "python",
   "nbconvert_exporter": "python",
   "pygments_lexer": "ipython3",
   "version": "3.11.4"
  },
  "orig_nbformat": 4
 },
 "nbformat": 4,
 "nbformat_minor": 2
}
